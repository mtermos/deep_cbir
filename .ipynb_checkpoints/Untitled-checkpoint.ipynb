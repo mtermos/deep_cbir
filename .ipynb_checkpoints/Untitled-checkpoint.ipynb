{
 "cells": [
  {
   "cell_type": "code",
   "execution_count": null,
   "id": "72c942f5",
   "metadata": {},
   "outputs": [],
   "source": [
    "from run import *"
   ]
  },
  {
   "cell_type": "code",
   "execution_count": null,
   "id": "d7ac4358",
   "metadata": {},
   "outputs": [],
   "source": [
    "db_dict = load_db_dict()"
   ]
  },
  {
   "cell_type": "code",
   "execution_count": null,
   "id": "ff6c201b",
   "metadata": {
    "scrolled": true
   },
   "outputs": [],
   "source": [
    "images_list = import_images()"
   ]
  },
  {
   "cell_type": "code",
   "execution_count": null,
   "id": "4f339ac3",
   "metadata": {
    "scrolled": true
   },
   "outputs": [],
   "source": [
    "# images_list"
   ]
  },
  {
   "cell_type": "code",
   "execution_count": null,
   "id": "1fcc466d",
   "metadata": {},
   "outputs": [],
   "source": [
    "model = my_model(\"resnet50\")"
   ]
  },
  {
   "cell_type": "code",
   "execution_count": null,
   "id": "0092326c",
   "metadata": {
    "scrolled": true
   },
   "outputs": [],
   "source": [
    "db_features = extract_dataset_images_features()\n",
    "db_features.shape"
   ]
  },
  {
   "cell_type": "code",
   "execution_count": null,
   "id": "ddcb8e68",
   "metadata": {},
   "outputs": [],
   "source": [
    "# save_db_features()"
   ]
  },
  {
   "cell_type": "code",
   "execution_count": null,
   "id": "ec87d132",
   "metadata": {},
   "outputs": [],
   "source": [
    "# db_features = load_db_features()"
   ]
  },
  {
   "cell_type": "code",
   "execution_count": null,
   "id": "614a19bf",
   "metadata": {},
   "outputs": [],
   "source": [
    "img_id = 20\n",
    "query_image_and_show(number_of_images = 10, image_id = db_dict[\"qidx\"][img_id], bbx= db_dict[\"gnd\"][img_id][\"bbx\"])"
   ]
  },
  {
   "cell_type": "code",
   "execution_count": null,
   "id": "b4601a70",
   "metadata": {
    "scrolled": true
   },
   "outputs": [],
   "source": [
    "evaluate()"
   ]
  },
  {
   "cell_type": "code",
   "execution_count": null,
   "id": "400e17bb",
   "metadata": {},
   "outputs": [],
   "source": [
    "# from sklearn.cluster import MeanShift\n",
    "\n",
    "# a = np.array(image_features).T\n",
    "# b = a[:100]\n",
    "# print(b.shape)\n",
    "# clustering = MeanShift().fit_predict(a)\n",
    "# print(np.unique(clustering).shape)"
   ]
  },
  {
   "cell_type": "code",
   "execution_count": null,
   "id": "c03502b8",
   "metadata": {},
   "outputs": [],
   "source": [
    "# for i in np.where(clustering==2)[0]:\n",
    "#     imgplot = plt.imshow(mpimg.imread(images_list[i]))\n",
    "#     plt.show()\n",
    "#     print(images_list[i])"
   ]
  }
 ],
 "metadata": {
  "kernelspec": {
   "display_name": "Python 3",
   "language": "python",
   "name": "python3"
  },
  "language_info": {
   "codemirror_mode": {
    "name": "ipython",
    "version": 3
   },
   "file_extension": ".py",
   "mimetype": "text/x-python",
   "name": "python",
   "nbconvert_exporter": "python",
   "pygments_lexer": "ipython3",
   "version": "3.7.10"
  }
 },
 "nbformat": 4,
 "nbformat_minor": 5
}
